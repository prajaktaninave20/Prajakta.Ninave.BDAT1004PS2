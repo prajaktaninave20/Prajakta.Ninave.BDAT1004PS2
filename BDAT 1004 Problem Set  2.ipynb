{
 "cells": [
  {
   "cell_type": "markdown",
   "metadata": {},
   "source": [
    "# Question1 \n",
    "\n",
    "Consider the following Python module:\n",
    "a = 0\n",
    "def b():\n",
    " global a\n",
    " a = c(a)\n",
    "def c(a):\n",
    " return a + 2\n",
    "After importing the module into the interpreter, you execute:\n",
    ">>> b()\n",
    ">>> b()\n",
    ">>> b()\n",
    ">>> a\n",
    "?\n",
    "What value is displayed when the last expression (a) is evaluated? Explain your\n",
    "answer by indicating what happens in every executed statement\n"
   ]
  },
  {
   "cell_type": "code",
   "execution_count": 47,
   "metadata": {},
   "outputs": [
    {
     "data": {
      "text/plain": [
       "6"
      ]
     },
     "execution_count": 47,
     "metadata": {},
     "output_type": "execute_result"
    }
   ],
   "source": [
    "a=0\n",
    "def b():\n",
    "    global a\n",
    "    a=c(a)\n",
    "def c(a):\n",
    "    return a+2\n",
    "b()#calling function c where 2 is added to the global variable a and here a value is 2\n",
    "b()#again above process now a value is 4\n",
    "b()#now value is 6\n",
    "a"
   ]
  },
  {
   "cell_type": "markdown",
   "metadata": {},
   "source": [
    "# Question 2\n",
    "Function fileLength(), given to you, takes the name of a file as input and returns\n",
    "the length of the file:\n",
    ">>> fileLength('midterm.py')\n",
    "284\n",
    ">>> fileLength('idterm.py')\n",
    "Traceback (most recent call last):\n",
    "File \"<pyshell#34>\", line 1, in <module>\n",
    " fileLength('idterm.py')\n",
    "File \"/Users/me/midterm.py\", line 3, in fileLength\n",
    " infile = open(filename)\n",
    "FileNotFoundError: [Errno 2] No such file or directory:\n",
    "'idterm.py'\n",
    "As shown above, if the file cannot be found by the interpreter or if it cannot be read\n",
    "as a text file, an exception will be raised. Modify function fileLength() so that a\n",
    "friendly message is printed instead:\n",
    ">>> fileLength('midterm.py')\n",
    "358\n",
    ">>> fileLength('idterm.py')\n",
    "File idterm.py not found.\n"
   ]
  },
  {
   "cell_type": "code",
   "execution_count": 48,
   "metadata": {},
   "outputs": [
    {
     "name": "stdout",
     "output_type": "stream",
     "text": [
      "123\n"
     ]
    }
   ],
   "source": [
    "def fileLength(file_name):\n",
    "    try:\n",
    "        with open(file_name,'r') as f:\n",
    "            print(len(f.read()))\n",
    "    except FileNotFoundError:\n",
    "        print('File '+file_name+'is not found');\n",
    "\n",
    "fileLength('Filelength.txt')"
   ]
  },
  {
   "cell_type": "code",
   "execution_count": 49,
   "metadata": {},
   "outputs": [
    {
     "name": "stdout",
     "output_type": "stream",
     "text": [
      "File midterm.py not found\n"
     ]
    }
   ],
   "source": [
    "fileLength('midterm.py')\n"
   ]
  },
  {
   "cell_type": "markdown",
   "metadata": {},
   "source": [
    "# Question 3\n",
    "\n",
    "Write a class named Marsupial that can be used as shown below:\n",
    ">>> m = Marsupial()\n",
    ">>> m.put_in_pouch('doll')\n",
    ">>> m.put_in_pouch('firetruck')\n",
    ">>> m.put_in_pouch('kitten')\n",
    ">>> m.pouch_contents()\n",
    "['doll', 'firetruck', 'kitten']"
   ]
  },
  {
   "cell_type": "code",
   "execution_count": 9,
   "metadata": {},
   "outputs": [
    {
     "name": "stdout",
     "output_type": "stream",
     "text": [
      "['doll', 'firetruck', 'kitten']\n"
     ]
    }
   ],
   "source": [
    "class Marsupial:\n",
    "    pouch_list = []\n",
    "    def put_in_pouch(self,name):\n",
    "        self.pouch_list.append(name)\n",
    "        \n",
    "    def pouch_contents(self):\n",
    "        print(self.pouch_list)\n",
    "m = Marsupial()\n",
    "m.put_in_pouch('doll')\n",
    "m.put_in_pouch('firetruck')\n",
    "m.put_in_pouch('kitten')\n",
    "m.pouch_contents()"
   ]
  },
  {
   "cell_type": "markdown",
   "metadata": {},
   "source": [
    "Now write a class named Kangaroo as a subclass of Marsupial that inherits all the\n",
    "attributes of Marsupial and also:\n",
    "a. extends the Marsupial __init__ constructor to take, as input, the\n",
    "coordinates x and y of the Kangaroo object,\n",
    "b. supports method jump that takes number values dx and dy as input and\n",
    "moves the kangaroo by dx units along the x-axis and by dy units along the yaxis, and\n",
    "c. overloads the __str__ operator so it behaves as shown below.\n",
    ">> k = Kangaroo(0,0)\n",
    ">> print(k)\n",
    "\n",
    "I am a Kangaroo located at coordinates (0,0)\n",
    ">> k.put_in_pouch('doll') \n",
    ">> k.put_in_pouch('firetruck') \n",
    ">> k.put_in_pouch('kitten') \n",
    ">> k.pouch_contents() \n",
    "['doll', 'firetruck', 'kitten']\n",
    ">> k.jump(1,0) \n",
    ">> k.jump(1,0) \n",
    ">> k.jump(1,0) \n",
    ">> print(k)\n",
    "\n",
    "I am a Kangaroo located at coordinates (3,0)"
   ]
  },
  {
   "cell_type": "code",
   "execution_count": 14,
   "metadata": {},
   "outputs": [
    {
     "name": "stdout",
     "output_type": "stream",
     "text": [
      "I am a Kangaroo located at coordinates (0,0)\n",
      "['doll', 'firetruck', 'kitten']\n",
      "I am a Kangaroo located at coordinates (3,0)\n"
     ]
    }
   ],
   "source": [
    "class Marsupial:\n",
    "    \n",
    "    def __init__(self,x,y):\n",
    "        self.dx=x\n",
    "        self.dy=y\n",
    "    pouch_list=[]\n",
    "    def put_in_pouch(self,name):\n",
    "        self.pouch_list.append(name)\n",
    "        \n",
    "    def pouch_contents(self):\n",
    "        print(self.pouch_list)\n",
    "\n",
    "class Kangaroo(Marsupial):\n",
    "    \n",
    "    def __init__(self,x,y):\n",
    "        Marsupial.__init__(self,x,y)\n",
    "        \n",
    "    def jump(self,x,y):\n",
    "        self.dx=self.dx+x\n",
    "        self.dy=self.dy+y\n",
    "        \n",
    "        \n",
    "    def __str__(self):\n",
    "        return \"I am a Kangaroo located at coordinates (\"+str(self.dx)+\",\"+str(self.dy)+\")\"\n",
    "    \n",
    "k = Kangaroo(0,0)\n",
    "print(k)\n",
    "k.put_in_pouch('doll')\n",
    "k.put_in_pouch('firetruck')\n",
    "k.put_in_pouch('kitten')\n",
    "k.pouch_contents()\n",
    "k.jump(1,0)\n",
    "k.jump(1,0)\n",
    "k.jump(1,0)\n",
    "print(k)"
   ]
  },
  {
   "cell_type": "markdown",
   "metadata": {},
   "source": [
    "# Question 4 \n",
    "\n",
    "Write function collatz() that takes a positive integer x as input and prints the\n",
    "Collatz sequence starting at x. A Collatz sequence is obtained by repeatedly applying\n",
    "this rule to the previous number x in the sequence:\n",
    "x = {\n",
    "𝑥/2 𝑖𝑓 𝑥 𝑖𝑠 𝑒𝑣𝑒𝑛\n",
    "3𝑥 + 1 𝑖𝑓 𝑥 𝑖𝑠 𝑜𝑑𝑑\n",
    "Your function should stop when the sequence gets to number 1. Your\n",
    "implementation must be recursive, without any loops.\n",
    "\n",
    ">>> collatz(1)\n",
    "1\n",
    "\n",
    ">>> collatz(10)\n",
    "10\n",
    "5\n",
    "16\n",
    "8\n",
    "4\n",
    "2\n",
    "1"
   ]
  },
  {
   "cell_type": "code",
   "execution_count": 11,
   "metadata": {},
   "outputs": [],
   "source": [
    "def collatz(num):\n",
    "    if num%2==0:\n",
    "        print(num)\n",
    "        collatz(int(num/2))\n",
    "    elif num==1:\n",
    "        print(num)\n",
    "    else:\n",
    "        print(num)\n",
    "        collatz(num+1)\n",
    "        "
   ]
  },
  {
   "cell_type": "code",
   "execution_count": 12,
   "metadata": {},
   "outputs": [
    {
     "name": "stdout",
     "output_type": "stream",
     "text": [
      "1\n"
     ]
    }
   ],
   "source": [
    "collatz(1)"
   ]
  },
  {
   "cell_type": "code",
   "execution_count": 13,
   "metadata": {},
   "outputs": [
    {
     "name": "stdout",
     "output_type": "stream",
     "text": [
      "10\n",
      "5\n",
      "6\n",
      "3\n",
      "4\n",
      "2\n",
      "1\n"
     ]
    }
   ],
   "source": [
    "collatz(10)"
   ]
  },
  {
   "cell_type": "markdown",
   "metadata": {},
   "source": [
    "# Question 5\n",
    "\n",
    "Write a recursive method binary() that takes a non-negative\n",
    "integer n and prints the binary representation of integer n.\n",
    ">> binary(0)\n",
    "\n",
    "0 \n",
    "\n",
    ">> binary(1)\n",
    "\n",
    "1 \n",
    "\n",
    ">> binary(3)\n",
    "\n",
    "11 \n",
    "\n",
    ">> binary(9)\n",
    "\n",
    "1001\n"
   ]
  },
  {
   "cell_type": "code",
   "execution_count": 27,
   "metadata": {},
   "outputs": [
    {
     "data": {
      "text/plain": [
       "0"
      ]
     },
     "execution_count": 27,
     "metadata": {},
     "output_type": "execute_result"
    }
   ],
   "source": [
    "def binary(num):\n",
    "    if(num>0):\n",
    "        x=num%2\n",
    "        num=int(num/2)\n",
    "        return int(str(binary(num))+str(x))\n",
    "    else:\n",
    "        return 0\n",
    "\n",
    "    \n",
    "binary(0)"
   ]
  },
  {
   "cell_type": "code",
   "execution_count": 26,
   "metadata": {
    "scrolled": true
   },
   "outputs": [
    {
     "data": {
      "text/plain": [
       "1"
      ]
     },
     "execution_count": 26,
     "metadata": {},
     "output_type": "execute_result"
    }
   ],
   "source": [
    "binary(1)"
   ]
  },
  {
   "cell_type": "code",
   "execution_count": 23,
   "metadata": {},
   "outputs": [
    {
     "data": {
      "text/plain": [
       "11"
      ]
     },
     "execution_count": 23,
     "metadata": {},
     "output_type": "execute_result"
    }
   ],
   "source": [
    "binary(3)"
   ]
  },
  {
   "cell_type": "code",
   "execution_count": 24,
   "metadata": {},
   "outputs": [
    {
     "data": {
      "text/plain": [
       "1001"
      ]
     },
     "execution_count": 24,
     "metadata": {},
     "output_type": "execute_result"
    }
   ],
   "source": [
    "binary(9)"
   ]
  },
  {
   "cell_type": "markdown",
   "metadata": {},
   "source": [
    "# Question 6\n",
    "\n",
    "Implement a class named HeadingParser that can be used to parse an HTML\n",
    "document, and retrieve and print all the headings in the document. You should\n",
    "implement your class as a subclass of HTMLParser, defined in Standard Library\n",
    "module html.parser. When fed a string containing HTML code, your class should\n",
    "print the headings, one per line and in the order in which they appear in the\n",
    "document. Each heading should be indented as follows: an h1 heading should have   \n",
    "\n",
    "indentation 0, and h2 heading should have indentation 1, etc. Test your\n",
    "implementation using w3c.html.\n",
    ">>> infile = open('w3c.html')\n",
    ">>> content = infile.read()\n",
    ">>> infile.close()\n",
    ">>> hp = HeadingParser()\n",
    ">>> hp.feed(content)\n",
    "W3C Mission\n",
    "Principles"
   ]
  },
  {
   "cell_type": "code",
   "execution_count": 28,
   "metadata": {},
   "outputs": [
    {
     "name": "stdout",
     "output_type": "stream",
     "text": [
      "W3C Mission\n",
      " Principles\n"
     ]
    }
   ],
   "source": [
    "from html.parser import HTMLParser\n",
    "\n",
    "class HeadingParser(HTMLParser):\n",
    "    h1_tag=\"\"\n",
    "    h2_tag=\"\"\n",
    "    \n",
    "    def __init__(self):\n",
    "        HTMLParser.__init__(self)\n",
    "        \n",
    "    def handle_starttag(self,tag,attr):\n",
    "        if tag=='h1':\n",
    "            self.h1_tag=True\n",
    "        elif tag=='h2':\n",
    "            self.h2_tag=True\n",
    "            \n",
    "    def handle_data(self,data):\n",
    "        if self.h1_tag:\n",
    "            print(data)\n",
    "        elif self.h2_tag:\n",
    "            print(\" \"+data)\n",
    "            \n",
    "    def handle_endtag(self,tag):\n",
    "        if tag=='h1':\n",
    "            self.h1_tag=False\n",
    "        elif tag=='h2':\n",
    "            self.h2_tag=False\n",
    "            \n",
    "infile = open('w3c.html')\n",
    "content =infile.read()\n",
    "hp = HeadingParser()\n",
    "hp.feed(content)"
   ]
  },
  {
   "cell_type": "markdown",
   "metadata": {},
   "source": [
    "# Question 7\n",
    "\n",
    "Implement recursive function webdir() that takes as input: a URL (as a string) and\n",
    "non-negative integers depth and indent. Your function should visit every web\n",
    "page reachable from the starting URL web page in depth clicks or less, and print\n",
    "each web page's URL. As shown below, indentation, specified by indent, should\n",
    "be used to indicate the depth of a URL.\n",
    ">>>\n",
    "webdir('http://reed.cs.depaul.edu/lperkovic/csc242/test1.html'\n",
    ", 2, 0)\n",
    "http://reed.cs.depaul.edu/lperkovic/csc242/test1.html\n",
    " http://reed.cs.depaul.edu/lperkovic/csc242/test2.html\n",
    " http://reed.cs.depaul.edu/lperkovic/csc242/test4.html\n",
    " http://reed.cs.depaul.edu/lperkovic/csc242/test3.html\n",
    " http://reed.cs.depaul.edu/lperkovic/csc242/test4.html"
   ]
  },
  {
   "cell_type": "code",
   "execution_count": 29,
   "metadata": {},
   "outputs": [
    {
     "name": "stdout",
     "output_type": "stream",
     "text": [
      "http://reed.cs.depaul.edu/lperkovic/test1.html\n",
      " http://reed.cs.depaul.edu/lperkovic/test2.html\n",
      "  http://reed.cs.depaul.edu/lperkovic/test4.html\n",
      " http://reed.cs.depaul.edu/lperkovic/test3.html\n",
      "  http://reed.cs.depaul.edu/lperkovic/test4.html\n"
     ]
    }
   ],
   "source": [
    "import urllib.request\n",
    "from html.parser import HTMLParser\n",
    "\n",
    "class MyParser(HTMLParser):\n",
    "    def handle_starttag(self, tag, attrs):\n",
    "        if tag=='a':\n",
    "            for attr in attrs:\n",
    "                if attr[0]=='href':\n",
    "                    if attr[1][-4:]=='html':\n",
    "                        if attr[1][:4]=='http':\n",
    "                            webdir(attr[1],1,1)\n",
    "                        elif attr[1][:5]=='test3':\n",
    "                            url='http://reed.cs.depaul.edu/lperkovic/'+attr[1]\n",
    "                            webdir(url,0,1)\n",
    "                        else:\n",
    "                            url='http://reed.cs.depaul.edu/lperkovic/'+attr[1]\n",
    "                            webdir(url,0,2)\n",
    "\n",
    "def webdir(url,depth,indent):\n",
    "    if indent==0:\n",
    "        print(url)\n",
    "    elif indent==1:\n",
    "        print(\" \"+url)\n",
    "    elif indent==2:\n",
    "        print(\"  \"+url)\n",
    "    request = urllib.request.urlopen(url)\n",
    "    html=request.read().decode(\"utf8\")\n",
    "    parser =MyParser()\n",
    "    parser.feed(html)\n",
    "webdir('http://reed.cs.depaul.edu/lperkovic/test1.html',2,0)"
   ]
  },
  {
   "cell_type": "markdown",
   "metadata": {},
   "source": [
    "# Question 8\n",
    "\n",
    "Write SQL queries on the below database table that return:\n",
    "\n",
    "A) All the temperature data.\n",
    "\n",
    "ANS:\n",
    "\n",
    ">>select * from temperature;\n",
    "\n",
    "\n",
    "\n",
    "B) All the cities, but without repetition.\n",
    "\n",
    "ANS:\n",
    "\n",
    ">>select distinct City from temperature;\n",
    "\n",
    ">>select city from temperature group by city;\n",
    "\n",
    "\n",
    "C) All the records for India.\n",
    "\n",
    "ANS:\n",
    "\n",
    ">>select * from temperature where Country='India';\n",
    "\n",
    "\n",
    "D) All the Fall records.\n",
    "\n",
    "ANS:\n",
    "\n",
    ">>select * from temperature where season ='Fall';\n",
    "\n",
    "\n",
    "E) The city, country, and season for which the average rainfall is between 200\n",
    "and 400 millimeters.\n",
    "\n",
    "ANS:\n",
    "\n",
    ">>select city, country, season from temperature where Rainfall between 200 and 400;\n",
    "\n",
    "\n",
    "F) The city and country for which the average Fall temperature is above 20\n",
    "degrees, in increasing temperature order.\n",
    "\n",
    "ANS:\n",
    "\n",
    ">>select city,country from temperature where temperature>20 order by temperature asc;\n",
    "\n",
    "\n",
    "G) The total annual rainfall for Cairo.\n",
    "\n",
    "ANS:\n",
    ">>select sum(Rainfall) as \"annual rainfall\" from temperature where city='Cairo';\n",
    "\n",
    "\n",
    "H) The total rainfall for each season.\n",
    "\n",
    "ANS:\n",
    ">>select season,sum(Rainfall) as \"annual rainfall\" from temperature group by season;\n",
    "\n"
   ]
  },
  {
   "cell_type": "markdown",
   "metadata": {},
   "source": [
    "# QUESTION 9\n",
    "\n",
    ". Suppose list words is defined as follows:\n",
    "> words = ['The', 'quick', 'brown', 'fox', 'jumps', 'over',\n",
    "'the', 'lazy', 'dog']\n",
    "\n",
    "Write list comprehension expressions that use list words and generate the following\n",
    "lists:\n",
    "\n",
    ">a) ['THE', 'QUICK', 'BROWN', 'FOX', 'JUMPS', 'OVER', 'THE',\n",
    "'LAZY', 'DOG']"
   ]
  },
  {
   "cell_type": "code",
   "execution_count": 37,
   "metadata": {},
   "outputs": [
    {
     "name": "stdout",
     "output_type": "stream",
     "text": [
      "['THE', 'QUICK', 'BROWN', 'FOX', 'JUMPS', 'OVER', 'THE', 'LAZY', 'DOG']\n"
     ]
    }
   ],
   "source": [
    "words = ['The', 'quick', 'brown', 'fox', 'jumps', 'over', 'the', 'lazy', 'dog']\n",
    "words_upper=[]\n",
    "for word in words:\n",
    "    words_upper.append(word.upper())\n",
    "print(words_upper)"
   ]
  },
  {
   "cell_type": "markdown",
   "metadata": {},
   "source": [
    ">B. ['the', 'quick', 'brown', 'fox', 'jumps', 'over', 'the',\n",
    "'lazy', 'dog']\n"
   ]
  },
  {
   "cell_type": "code",
   "execution_count": 38,
   "metadata": {},
   "outputs": [
    {
     "name": "stdout",
     "output_type": "stream",
     "text": [
      "['the', 'quick', 'brown', 'fox', 'jumps', 'over', 'the', 'lazy', 'dog']\n"
     ]
    }
   ],
   "source": [
    "words_lower=[]\n",
    "for word in words:\n",
    "    words_lower.append(word.lower())\n",
    "print(words_lower)"
   ]
  },
  {
   "cell_type": "markdown",
   "metadata": {},
   "source": [
    ">C. [3, 5, 5, 3, 5, 4, 3, 4, 3] (the list of lengths of words in list\n",
    "words)."
   ]
  },
  {
   "cell_type": "code",
   "execution_count": 39,
   "metadata": {},
   "outputs": [
    {
     "name": "stdout",
     "output_type": "stream",
     "text": [
      "[3, 5, 5, 3, 5, 4, 3, 4, 3]\n"
     ]
    }
   ],
   "source": [
    "words_length=[]\n",
    "for word in words:\n",
    "    words_length.append(len(word))\n",
    "print(words_length)"
   ]
  },
  {
   "cell_type": "markdown",
   "metadata": {},
   "source": [
    ">D. [['THE', 'the', 3], ['QUICK', 'quick', 5], ['BROWN',\n",
    "'brown', 5], ['FOX', 'fox', 3], ['JUMPS', 'jumps', 5],\n",
    "['OVER', 'over', 4], ['THE', 'the', 3], ['LAZY', 'lazy',\n",
    "4], ['DOG', 'dog', 3]] (the list containing a list for every word of list\n",
    "words, where each list contains the word in uppercase and lowercase and the\n",
    "length of the word.)\n"
   ]
  },
  {
   "cell_type": "code",
   "execution_count": 43,
   "metadata": {},
   "outputs": [
    {
     "name": "stdout",
     "output_type": "stream",
     "text": [
      "['THE', 'the', 3, 'QUICK', 'quick', 5, 'BROWN', 'brown', 5, 'FOX', 'fox', 3, 'JUMPS', 'jumps', 5, 'OVER', 'over', 4, 'THE', 'the', 3, 'LAZY', 'lazy', 4, 'DOG', 'dog', 3]\n"
     ]
    }
   ],
   "source": [
    "word_upper_and_length=[]\n",
    "for word in words:\n",
    "    word_upper_and_length.append(word.upper())\n",
    "    word_upper_and_length.append(word.lower())\n",
    "    word_upper_and_length.append(len(word))\n",
    "print(word_upper_and_length)"
   ]
  },
  {
   "cell_type": "markdown",
   "metadata": {},
   "source": [
    ">E. ['The', 'quick', 'brown', 'fox', 'jumps', 'over', 'the',\n",
    "'lazy', 'dog'] (the list of words in list words containing 4 or more\n",
    "characters.)"
   ]
  },
  {
   "cell_type": "code",
   "execution_count": 45,
   "metadata": {},
   "outputs": [
    {
     "name": "stdout",
     "output_type": "stream",
     "text": [
      "['quick', 'brown', 'jumps', 'over', 'lazy']\n"
     ]
    }
   ],
   "source": [
    "words_with_limited_length=[]\n",
    "\n",
    "for word in words:\n",
    "    if len(word)>=4:\n",
    "        words_with_limited_length.append(word.lower())\n",
    "print(words_with_limited_length)"
   ]
  },
  {
   "cell_type": "code",
   "execution_count": null,
   "metadata": {},
   "outputs": [],
   "source": []
  }
 ],
 "metadata": {
  "kernelspec": {
   "display_name": "Python 3",
   "language": "python",
   "name": "python3"
  },
  "language_info": {
   "codemirror_mode": {
    "name": "ipython",
    "version": 3
   },
   "file_extension": ".py",
   "mimetype": "text/x-python",
   "name": "python",
   "nbconvert_exporter": "python",
   "pygments_lexer": "ipython3",
   "version": "3.8.3"
  }
 },
 "nbformat": 4,
 "nbformat_minor": 4
}
